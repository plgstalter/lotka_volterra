{
 "metadata": {
  "language_info": {
   "codemirror_mode": {
    "name": "ipython",
    "version": 3
   },
   "file_extension": ".py",
   "mimetype": "text/x-python",
   "name": "python",
   "nbconvert_exporter": "python",
   "pygments_lexer": "ipython3",
   "version": "3.8.3-final"
  },
  "orig_nbformat": 2,
  "kernelspec": {
   "name": "python3",
   "display_name": "Python 3",
   "language": "python"
  }
 },
 "nbformat": 4,
 "nbformat_minor": 2,
 "cells": [
  {
   "source": [
    "Projet numérique\n",
    "===========================================================================\n",
    "\n",
    "Les équations de Lotka-Volterra, ou \"modèle proie-prédateur\", sont couramment utilisées pour décrire la dynamique de systèmes biologiques dans lesquels un prédateur et sa proie interagissent dans un milieu commun.  Elles ont été proposées indépendamment par A. J. Lotka en 1925 et V. Volterra en 1926 et s'écrivent de la manière suivante :\n",
    "$\\begin{cases}\n",
    "\\dot{x}_1 &= x_1(\\alpha -\\beta x_2) \\\\\n",
    "\\dot{x}_2 &= -x_2(\\gamma - \\delta x_1)\n",
    "\\end{cases}$\n",
    "où $x_1$ et $x_2$ désignent le nombre (positif) de proies et de prédateurs respectivement et $\\alpha$, $\\beta$, $\\gamma$, $\\delta$ sont des paramètres strictement positifs."
   ],
   "cell_type": "markdown",
   "metadata": {}
  },
  {
   "source": [
    "## Question 1 \n",
    "\n",
    "Donner une interprétation physique à chaque terme de la dynamique. \n",
    "    Montrer qu'il existe deux points d'équilibre $(0,0)$ et $\\bar{x}\\in \\mathbb{R}_+\\times\\mathbb{R}_+$. Que peut-on dire de leur stabilité à ce stade ?\n",
    "    \n",
    "## Proposition de réponse\n",
    "\n",
    "### Analyse des termes\n",
    "\n",
    "On remarque qu'on a l'existence de deux seuils : $\\frac\\alpha\\beta$ et $\\frac\\gamma\\delta$. Si on a moins de prédateurs que $\\frac\\alpha\\beta$, le nombre de proies augmente. Sinon, il diminue.\n",
    "\n",
    "De même, le nombre de prédateurs ne peut augmenter que si on a **plus** de proies que $\\frac\\gamma\\delta$.\n",
    "\n",
    "### Points d'équilibre\n",
    "\n",
    "On écrit le problème sous la forme $\\dot X=f(X)$ avec $X=(x_1,x_2)$. On a $f(X)= (x_1(\\alpha -\\beta x_2),-x_2(\\gamma - \\delta x_1))$\n",
    "\n",
    "Point d'équilibre : $X_0$ tel que $f(X_0)=0$\n",
    "\n",
    "On doit avoir ($x_{10}=0$ ou $x_{20}=\\frac\\alpha\\beta$) et ($x_{20}=0$ ou $x_{10}=\\frac\\gamma\\delta$).\n",
    "\n",
    "On obtient donc deux points d'équilibres : $(0, 0)$ et $\\overline x:\\!=(\\frac\\gamma\\delta,\\frac\\alpha\\beta)$\n",
    "\n",
    "Quid de leur stabilité ?\n",
    "\n",
    "* $(0,0)$ : \n",
    "\n",
    "* $\\overline x$ :"
   ],
   "cell_type": "markdown",
   "metadata": {}
  },
  {
   "source": [
    "## Question 2\n",
    "\n",
    "A l'aide des fonctions `meshgrid` et `quiver`, visualiser graphiquement le champ de vecteurs. \n",
    "    Intuiter le comportement des solutions. \n",
    "    On pourra aussi utiliser `streamplot` pour visualiser le portrait de phase."
   ],
   "cell_type": "markdown",
   "metadata": {}
  },
  {
   "cell_type": "code",
   "execution_count": 3,
   "metadata": {},
   "outputs": [],
   "source": [
    "import numpy as np, matplotlib.pyplot as plt"
   ]
  },
  {
   "source": [
    "## Question 4\n",
    "\n",
    "On considère la fonction\n",
    "    $H(x_1,x_2) = \\delta x_1 - \\gamma \\ln x_1 + \\beta x_2 - \\alpha \\ln x_2$\n",
    "    définie sur $\\mathbb{R}_+\\times \\mathbb{R}_+$.\n",
    "    Calculer la dérivée de $H$ le long des solutions initialisées dans $\\mathbb{R}_+\\times \\mathbb{R}_+$. En déduire que toute solution maximale initialisée dans $\\mathbb{R}_+\\times \\mathbb{R}_+$ est définie sur $\\mathbb{R}$ et que $\\bar{x}$ est stable."
   ],
   "cell_type": "markdown",
   "metadata": {}
  }
 ]
}